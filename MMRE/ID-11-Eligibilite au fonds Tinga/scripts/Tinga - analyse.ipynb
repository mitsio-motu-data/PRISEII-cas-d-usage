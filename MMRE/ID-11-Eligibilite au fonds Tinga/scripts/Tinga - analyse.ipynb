{
 "cells": [
  {
   "cell_type": "code",
   "execution_count": 29,
   "metadata": {},
   "outputs": [],
   "source": [
    "import geopandas as gpd\n",
    "import pandas as pd\n",
    "import matplotlib\n",
    "import os\n",
    "import numpy as np\n",
    "from shapely.geometry import Point\n",
    "import matplotlib.pyplot as plt"
   ]
  },
  {
   "cell_type": "markdown",
   "metadata": {},
   "source": [
    "# Import des données"
   ]
  },
  {
   "cell_type": "code",
   "execution_count": null,
   "metadata": {},
   "outputs": [
    {
     "ename": "DriverError",
     "evalue": "C:\\Users\\hp\\Documents\\MITSIOMOTU\\Prise phase2\\2. Data\\1. Analyse cas d'usage\\MMRE\\data\\ménage\\concessions_total.gpkg: No such file or directory",
     "output_type": "error",
     "traceback": [
      "\u001b[1;31m---------------------------------------------------------------------------\u001b[0m",
      "\u001b[1;31mCPLE_OpenFailedError\u001b[0m                      Traceback (most recent call last)",
      "File \u001b[1;32mfiona\\_shim.pyx:83\u001b[0m, in \u001b[0;36mfiona._shim.gdal_open_vector\u001b[1;34m()\u001b[0m\n",
      "File \u001b[1;32mfiona\\_err.pyx:291\u001b[0m, in \u001b[0;36mfiona._err.exc_wrap_pointer\u001b[1;34m()\u001b[0m\n",
      "\u001b[1;31mCPLE_OpenFailedError\u001b[0m: C:\\Users\\hp\\Documents\\MITSIOMOTU\\Prise phase2\\2. Data\\1. Analyse cas d'usage\\MMRE\\data\\ménage\\concessions_total.gpkg: No such file or directory",
      "\nDuring handling of the above exception, another exception occurred:\n",
      "\u001b[1;31mDriverError\u001b[0m                               Traceback (most recent call last)",
      "Input \u001b[1;32mIn [30]\u001b[0m, in \u001b[0;36m<module>\u001b[1;34m\u001b[0m\n\u001b[0;32m     18\u001b[0m menage_gdf \u001b[38;5;241m=\u001b[39m gpd\u001b[38;5;241m.\u001b[39mread_file(os\u001b[38;5;241m.\u001b[39mpath\u001b[38;5;241m.\u001b[39mjoin(path_data,\u001b[38;5;124m'\u001b[39m\u001b[38;5;124mdata\u001b[39m\u001b[38;5;124m'\u001b[39m,\u001b[38;5;124m'\u001b[39m\u001b[38;5;124mménage\u001b[39m\u001b[38;5;124m'\u001b[39m,\u001b[38;5;124m'\u001b[39m\u001b[38;5;124mmenage_total.gpkg\u001b[39m\u001b[38;5;124m'\u001b[39m))\n\u001b[0;32m     20\u001b[0m \u001b[38;5;66;03m# Import des concessions\u001b[39;00m\n\u001b[1;32m---> 21\u001b[0m concessions_total \u001b[38;5;241m=\u001b[39m \u001b[43mgpd\u001b[49m\u001b[38;5;241;43m.\u001b[39;49m\u001b[43mread_file\u001b[49m\u001b[43m(\u001b[49m\u001b[43mos\u001b[49m\u001b[38;5;241;43m.\u001b[39;49m\u001b[43mpath\u001b[49m\u001b[38;5;241;43m.\u001b[39;49m\u001b[43mjoin\u001b[49m\u001b[43m(\u001b[49m\u001b[43mpath_data\u001b[49m\u001b[43m,\u001b[49m\u001b[38;5;124;43m'\u001b[39;49m\u001b[38;5;124;43mdata\u001b[39;49m\u001b[38;5;124;43m'\u001b[39;49m\u001b[43m,\u001b[49m\u001b[38;5;124;43m'\u001b[39;49m\u001b[38;5;124;43mménage\u001b[39;49m\u001b[38;5;124;43m'\u001b[39;49m\u001b[43m,\u001b[49m\u001b[38;5;124;43m'\u001b[39;49m\u001b[38;5;124;43mconcessions_total.gpkg\u001b[39;49m\u001b[38;5;124;43m'\u001b[39;49m\u001b[43m)\u001b[49m\u001b[43m)\u001b[49m\n\u001b[0;32m     23\u001b[0m \u001b[38;5;66;03m# Import de la population META : \u001b[39;00m\n\u001b[0;32m     24\u001b[0m pop_point_gdf \u001b[38;5;241m=\u001b[39m gpd\u001b[38;5;241m.\u001b[39mread_file(os\u001b[38;5;241m.\u001b[39mpath\u001b[38;5;241m.\u001b[39mjoin(path_data,\u001b[38;5;124m'\u001b[39m\u001b[38;5;124mpopulation\u001b[39m\u001b[38;5;124m'\u001b[39m,\u001b[38;5;124m'\u001b[39m\u001b[38;5;124mpop_rgph_point2.gpkg\u001b[39m\u001b[38;5;124m'\u001b[39m))\n",
      "File \u001b[1;32mc:\\Users\\hp\\anaconda3\\envs\\mm\\lib\\site-packages\\geopandas\\io\\file.py:201\u001b[0m, in \u001b[0;36m_read_file\u001b[1;34m(filename, bbox, mask, rows, **kwargs)\u001b[0m\n\u001b[0;32m    198\u001b[0m     reader \u001b[38;5;241m=\u001b[39m fiona\u001b[38;5;241m.\u001b[39mopen\n\u001b[0;32m    200\u001b[0m \u001b[38;5;28;01mwith\u001b[39;00m fiona_env():\n\u001b[1;32m--> 201\u001b[0m     \u001b[38;5;28;01mwith\u001b[39;00m reader(path_or_bytes, \u001b[38;5;241m*\u001b[39m\u001b[38;5;241m*\u001b[39mkwargs) \u001b[38;5;28;01mas\u001b[39;00m features:\n\u001b[0;32m    202\u001b[0m \n\u001b[0;32m    203\u001b[0m         \u001b[38;5;66;03m# In a future Fiona release the crs attribute of features will\u001b[39;00m\n\u001b[0;32m    204\u001b[0m         \u001b[38;5;66;03m# no longer be a dict, but will behave like a dict. So this should\u001b[39;00m\n\u001b[0;32m    205\u001b[0m         \u001b[38;5;66;03m# be forwards compatible\u001b[39;00m\n\u001b[0;32m    206\u001b[0m         crs \u001b[38;5;241m=\u001b[39m (\n\u001b[0;32m    207\u001b[0m             features\u001b[38;5;241m.\u001b[39mcrs[\u001b[38;5;124m\"\u001b[39m\u001b[38;5;124minit\u001b[39m\u001b[38;5;124m\"\u001b[39m]\n\u001b[0;32m    208\u001b[0m             \u001b[38;5;28;01mif\u001b[39;00m features\u001b[38;5;241m.\u001b[39mcrs \u001b[38;5;129;01mand\u001b[39;00m \u001b[38;5;124m\"\u001b[39m\u001b[38;5;124minit\u001b[39m\u001b[38;5;124m\"\u001b[39m \u001b[38;5;129;01min\u001b[39;00m features\u001b[38;5;241m.\u001b[39mcrs\n\u001b[0;32m    209\u001b[0m             \u001b[38;5;28;01melse\u001b[39;00m features\u001b[38;5;241m.\u001b[39mcrs_wkt\n\u001b[0;32m    210\u001b[0m         )\n\u001b[0;32m    212\u001b[0m         \u001b[38;5;66;03m# handle loading the bounding box\u001b[39;00m\n",
      "File \u001b[1;32mc:\\Users\\hp\\anaconda3\\envs\\mm\\lib\\site-packages\\fiona\\env.py:408\u001b[0m, in \u001b[0;36mensure_env_with_credentials.<locals>.wrapper\u001b[1;34m(*args, **kwargs)\u001b[0m\n\u001b[0;32m    405\u001b[0m \u001b[38;5;129m@wraps\u001b[39m(f)\n\u001b[0;32m    406\u001b[0m \u001b[38;5;28;01mdef\u001b[39;00m \u001b[38;5;21mwrapper\u001b[39m(\u001b[38;5;241m*\u001b[39margs, \u001b[38;5;241m*\u001b[39m\u001b[38;5;241m*\u001b[39mkwargs):\n\u001b[0;32m    407\u001b[0m     \u001b[38;5;28;01mif\u001b[39;00m local\u001b[38;5;241m.\u001b[39m_env:\n\u001b[1;32m--> 408\u001b[0m         \u001b[38;5;28;01mreturn\u001b[39;00m f(\u001b[38;5;241m*\u001b[39margs, \u001b[38;5;241m*\u001b[39m\u001b[38;5;241m*\u001b[39mkwargs)\n\u001b[0;32m    409\u001b[0m     \u001b[38;5;28;01melse\u001b[39;00m:\n\u001b[0;32m    410\u001b[0m         \u001b[38;5;28;01mif\u001b[39;00m \u001b[38;5;28misinstance\u001b[39m(args[\u001b[38;5;241m0\u001b[39m], \u001b[38;5;28mstr\u001b[39m):\n",
      "File \u001b[1;32mc:\\Users\\hp\\anaconda3\\envs\\mm\\lib\\site-packages\\fiona\\__init__.py:256\u001b[0m, in \u001b[0;36mopen\u001b[1;34m(fp, mode, driver, schema, crs, encoding, layer, vfs, enabled_drivers, crs_wkt, **kwargs)\u001b[0m\n\u001b[0;32m    253\u001b[0m     path \u001b[38;5;241m=\u001b[39m parse_path(fp)\n\u001b[0;32m    255\u001b[0m \u001b[38;5;28;01mif\u001b[39;00m mode \u001b[38;5;129;01min\u001b[39;00m (\u001b[38;5;124m'\u001b[39m\u001b[38;5;124ma\u001b[39m\u001b[38;5;124m'\u001b[39m, \u001b[38;5;124m'\u001b[39m\u001b[38;5;124mr\u001b[39m\u001b[38;5;124m'\u001b[39m):\n\u001b[1;32m--> 256\u001b[0m     c \u001b[38;5;241m=\u001b[39m Collection(path, mode, driver\u001b[38;5;241m=\u001b[39mdriver, encoding\u001b[38;5;241m=\u001b[39mencoding,\n\u001b[0;32m    257\u001b[0m                    layer\u001b[38;5;241m=\u001b[39mlayer, enabled_drivers\u001b[38;5;241m=\u001b[39menabled_drivers, \u001b[38;5;241m*\u001b[39m\u001b[38;5;241m*\u001b[39mkwargs)\n\u001b[0;32m    258\u001b[0m \u001b[38;5;28;01melif\u001b[39;00m mode \u001b[38;5;241m==\u001b[39m \u001b[38;5;124m'\u001b[39m\u001b[38;5;124mw\u001b[39m\u001b[38;5;124m'\u001b[39m:\n\u001b[0;32m    259\u001b[0m     \u001b[38;5;28;01mif\u001b[39;00m schema:\n\u001b[0;32m    260\u001b[0m         \u001b[38;5;66;03m# Make an ordered dict of schema properties.\u001b[39;00m\n",
      "File \u001b[1;32mc:\\Users\\hp\\anaconda3\\envs\\mm\\lib\\site-packages\\fiona\\collection.py:162\u001b[0m, in \u001b[0;36mCollection.__init__\u001b[1;34m(self, path, mode, driver, schema, crs, encoding, layer, vsi, archive, enabled_drivers, crs_wkt, ignore_fields, ignore_geometry, **kwargs)\u001b[0m\n\u001b[0;32m    160\u001b[0m \u001b[38;5;28;01mif\u001b[39;00m \u001b[38;5;28mself\u001b[39m\u001b[38;5;241m.\u001b[39mmode \u001b[38;5;241m==\u001b[39m \u001b[38;5;124m'\u001b[39m\u001b[38;5;124mr\u001b[39m\u001b[38;5;124m'\u001b[39m:\n\u001b[0;32m    161\u001b[0m     \u001b[38;5;28mself\u001b[39m\u001b[38;5;241m.\u001b[39msession \u001b[38;5;241m=\u001b[39m Session()\n\u001b[1;32m--> 162\u001b[0m     \u001b[38;5;28mself\u001b[39m\u001b[38;5;241m.\u001b[39msession\u001b[38;5;241m.\u001b[39mstart(\u001b[38;5;28mself\u001b[39m, \u001b[38;5;241m*\u001b[39m\u001b[38;5;241m*\u001b[39mkwargs)\n\u001b[0;32m    163\u001b[0m \u001b[38;5;28;01melif\u001b[39;00m \u001b[38;5;28mself\u001b[39m\u001b[38;5;241m.\u001b[39mmode \u001b[38;5;129;01min\u001b[39;00m (\u001b[38;5;124m'\u001b[39m\u001b[38;5;124ma\u001b[39m\u001b[38;5;124m'\u001b[39m, \u001b[38;5;124m'\u001b[39m\u001b[38;5;124mw\u001b[39m\u001b[38;5;124m'\u001b[39m):\n\u001b[0;32m    164\u001b[0m     \u001b[38;5;28mself\u001b[39m\u001b[38;5;241m.\u001b[39msession \u001b[38;5;241m=\u001b[39m WritingSession()\n",
      "File \u001b[1;32mfiona\\ogrext.pyx:540\u001b[0m, in \u001b[0;36mfiona.ogrext.Session.start\u001b[1;34m()\u001b[0m\n",
      "File \u001b[1;32mfiona\\_shim.pyx:90\u001b[0m, in \u001b[0;36mfiona._shim.gdal_open_vector\u001b[1;34m()\u001b[0m\n",
      "\u001b[1;31mDriverError\u001b[0m: C:\\Users\\hp\\Documents\\MITSIOMOTU\\Prise phase2\\2. Data\\1. Analyse cas d'usage\\MMRE\\data\\ménage\\concessions_total.gpkg: No such file or directory"
     ]
    }
   ],
   "source": [
    "path_data = r\"C:\\Users\\hp\\Documents\\MITSIOMOTU\\Prise phase2\\2. Data\\1. Analyse cas d'usage\\MMRE\"\n",
    "\n",
    "# Import des limites administratives\n",
    "cantons = gpd.read_file(os.path.join(path_data,'data','limites admin','14_11_22_Togo_Cantons2_4326.gpkg'))\n",
    "communes = gpd.read_file(os.path.join(path_data,'data','limites admin','14_11_22_Communes_du_Togo_2.gpkg'))\n",
    "\n",
    "cantons = cantons.to_crs(epsg='25231')\n",
    "communes = communes.to_crs(epsg = '25231')\n",
    "\n",
    "# Import du réseau BT\n",
    "lignes_bt_gdf = gpd.read_file(os.path.join(path_data,'data','réseau BT','lignes_bt_total.gpkg'))\n",
    "poteaux_gdf = gpd.read_file(os.path.join(path_data,'data','réseau BT','poteaux_bt_total.gpkg'))\n",
    "\n",
    "# Import des branchements\n",
    "branchements_gdf = gpd.read_file(os.path.join(path_data,'data','branchement','branchement_total.gpkg'))\n",
    "\n",
    "# Import des ménages\n",
    "menage_gdf = gpd.read_file(os.path.join(path_data,'data','ménage','menage_total.gpkg'))\n",
    "\n",
    "# Import des concessions\n",
    "concessions_total = gpd.read_file(os.path.join(path_data,'data','concession','concessions_total.gpkg'))\n",
    "\n",
    "# Import de la population META : \n",
    "pop_point_gdf = gpd.read_file(os.path.join(path_data,'population','pop_rgph_point2.gpkg'))\n",
    "## Lecture de la population dans les buffer autour du réseau BT\n",
    "population_60 = gpd.read_file(os.path.join(path_data,'population','pop_rgph_point_60m_tinga.gpkg'))\n",
    "population_70 = gpd.read_file(os.path.join(path_data,'population','pop_rgph_point_70m_tinga.gpkg'))\n",
    "population_80 = gpd.read_file(os.path.join(path_data,'population','pop_rgph_point_80m_tinga.gpkg'))\n"
   ]
  },
  {
   "cell_type": "code",
   "execution_count": 31,
   "metadata": {},
   "outputs": [
    {
     "ename": "KeyboardInterrupt",
     "evalue": "",
     "output_type": "error",
     "traceback": [
      "\u001b[1;31m---------------------------------------------------------------------------\u001b[0m",
      "\u001b[1;31mKeyboardInterrupt\u001b[0m                         Traceback (most recent call last)",
      "Input \u001b[1;32mIn [31]\u001b[0m, in \u001b[0;36m<module>\u001b[1;34m\u001b[0m\n\u001b[0;32m      6\u001b[0m \u001b[38;5;66;03m## Lecture de la population dans les buffer autour du réseau BT\u001b[39;00m\n\u001b[0;32m      7\u001b[0m population_60 \u001b[38;5;241m=\u001b[39m gpd\u001b[38;5;241m.\u001b[39mread_file(os\u001b[38;5;241m.\u001b[39mpath\u001b[38;5;241m.\u001b[39mjoin(path_data,\u001b[38;5;124m'\u001b[39m\u001b[38;5;124mpopulation\u001b[39m\u001b[38;5;124m'\u001b[39m,\u001b[38;5;124m'\u001b[39m\u001b[38;5;124mpop_rgph_point_60m_tinga.gpkg\u001b[39m\u001b[38;5;124m'\u001b[39m))\n\u001b[1;32m----> 8\u001b[0m population_70 \u001b[38;5;241m=\u001b[39m \u001b[43mgpd\u001b[49m\u001b[38;5;241;43m.\u001b[39;49m\u001b[43mread_file\u001b[49m\u001b[43m(\u001b[49m\u001b[43mos\u001b[49m\u001b[38;5;241;43m.\u001b[39;49m\u001b[43mpath\u001b[49m\u001b[38;5;241;43m.\u001b[39;49m\u001b[43mjoin\u001b[49m\u001b[43m(\u001b[49m\u001b[43mpath_data\u001b[49m\u001b[43m,\u001b[49m\u001b[38;5;124;43m'\u001b[39;49m\u001b[38;5;124;43mpopulation\u001b[39;49m\u001b[38;5;124;43m'\u001b[39;49m\u001b[43m,\u001b[49m\u001b[38;5;124;43m'\u001b[39;49m\u001b[38;5;124;43mpop_rgph_point_70m_tinga.gpkg\u001b[39;49m\u001b[38;5;124;43m'\u001b[39;49m\u001b[43m)\u001b[49m\u001b[43m)\u001b[49m\n\u001b[0;32m      9\u001b[0m population_80 \u001b[38;5;241m=\u001b[39m gpd\u001b[38;5;241m.\u001b[39mread_file(os\u001b[38;5;241m.\u001b[39mpath\u001b[38;5;241m.\u001b[39mjoin(path_data,\u001b[38;5;124m'\u001b[39m\u001b[38;5;124mpopulation\u001b[39m\u001b[38;5;124m'\u001b[39m,\u001b[38;5;124m'\u001b[39m\u001b[38;5;124mpop_rgph_point_80m_tinga.gpkg\u001b[39m\u001b[38;5;124m'\u001b[39m))\n",
      "File \u001b[1;32mc:\\Users\\hp\\anaconda3\\envs\\mm\\lib\\site-packages\\geopandas\\io\\file.py:244\u001b[0m, in \u001b[0;36m_read_file\u001b[1;34m(filename, bbox, mask, rows, **kwargs)\u001b[0m\n\u001b[0;32m    239\u001b[0m \u001b[38;5;28;01mif\u001b[39;00m kwargs\u001b[38;5;241m.\u001b[39mget(\u001b[38;5;124m\"\u001b[39m\u001b[38;5;124mignore_geometry\u001b[39m\u001b[38;5;124m\"\u001b[39m, \u001b[38;5;28;01mFalse\u001b[39;00m):\n\u001b[0;32m    240\u001b[0m     \u001b[38;5;28;01mreturn\u001b[39;00m pd\u001b[38;5;241m.\u001b[39mDataFrame(\n\u001b[0;32m    241\u001b[0m         [record[\u001b[38;5;124m\"\u001b[39m\u001b[38;5;124mproperties\u001b[39m\u001b[38;5;124m\"\u001b[39m] \u001b[38;5;28;01mfor\u001b[39;00m record \u001b[38;5;129;01min\u001b[39;00m f_filt], columns\u001b[38;5;241m=\u001b[39mcolumns\n\u001b[0;32m    242\u001b[0m     )\n\u001b[1;32m--> 244\u001b[0m \u001b[38;5;28;01mreturn\u001b[39;00m \u001b[43mGeoDataFrame\u001b[49m\u001b[38;5;241;43m.\u001b[39;49m\u001b[43mfrom_features\u001b[49m\u001b[43m(\u001b[49m\n\u001b[0;32m    245\u001b[0m \u001b[43m    \u001b[49m\u001b[43mf_filt\u001b[49m\u001b[43m,\u001b[49m\u001b[43m \u001b[49m\u001b[43mcrs\u001b[49m\u001b[38;5;241;43m=\u001b[39;49m\u001b[43mcrs\u001b[49m\u001b[43m,\u001b[49m\u001b[43m \u001b[49m\u001b[43mcolumns\u001b[49m\u001b[38;5;241;43m=\u001b[39;49m\u001b[43mcolumns\u001b[49m\u001b[43m \u001b[49m\u001b[38;5;241;43m+\u001b[39;49m\u001b[43m \u001b[49m\u001b[43m[\u001b[49m\u001b[38;5;124;43m\"\u001b[39;49m\u001b[38;5;124;43mgeometry\u001b[39;49m\u001b[38;5;124;43m\"\u001b[39;49m\u001b[43m]\u001b[49m\n\u001b[0;32m    246\u001b[0m \u001b[43m\u001b[49m\u001b[43m)\u001b[49m\n",
      "File \u001b[1;32mc:\\Users\\hp\\anaconda3\\envs\\mm\\lib\\site-packages\\geopandas\\geodataframe.py:610\u001b[0m, in \u001b[0;36mGeoDataFrame.from_features\u001b[1;34m(cls, features, crs, columns)\u001b[0m\n\u001b[0;32m    608\u001b[0m     row\u001b[38;5;241m.\u001b[39mupdate(feature[\u001b[38;5;124m\"\u001b[39m\u001b[38;5;124mproperties\u001b[39m\u001b[38;5;124m\"\u001b[39m])\n\u001b[0;32m    609\u001b[0m     rows\u001b[38;5;241m.\u001b[39mappend(row)\n\u001b[1;32m--> 610\u001b[0m \u001b[38;5;28;01mreturn\u001b[39;00m \u001b[43mGeoDataFrame\u001b[49m\u001b[43m(\u001b[49m\u001b[43mrows\u001b[49m\u001b[43m,\u001b[49m\u001b[43m \u001b[49m\u001b[43mcolumns\u001b[49m\u001b[38;5;241;43m=\u001b[39;49m\u001b[43mcolumns\u001b[49m\u001b[43m,\u001b[49m\u001b[43m \u001b[49m\u001b[43mcrs\u001b[49m\u001b[38;5;241;43m=\u001b[39;49m\u001b[43mcrs\u001b[49m\u001b[43m)\u001b[49m\n",
      "File \u001b[1;32mc:\\Users\\hp\\anaconda3\\envs\\mm\\lib\\site-packages\\geopandas\\geodataframe.py:164\u001b[0m, in \u001b[0;36mGeoDataFrame.__init__\u001b[1;34m(self, data, geometry, crs, *args, **kwargs)\u001b[0m\n\u001b[0;32m    162\u001b[0m         _crs_mismatch_warning()\n\u001b[0;32m    163\u001b[0m         \u001b[38;5;66;03m# TODO: raise error in 0.9 or 0.10.\u001b[39;00m\n\u001b[1;32m--> 164\u001b[0m     \u001b[38;5;28mself\u001b[39m[\u001b[38;5;124m\"\u001b[39m\u001b[38;5;124mgeometry\u001b[39m\u001b[38;5;124m\"\u001b[39m] \u001b[38;5;241m=\u001b[39m \u001b[43m_ensure_geometry\u001b[49m\u001b[43m(\u001b[49m\u001b[38;5;28;43mself\u001b[39;49m\u001b[43m[\u001b[49m\u001b[38;5;124;43m\"\u001b[39;49m\u001b[38;5;124;43mgeometry\u001b[39;49m\u001b[38;5;124;43m\"\u001b[39;49m\u001b[43m]\u001b[49m\u001b[38;5;241;43m.\u001b[39;49m\u001b[43mvalues\u001b[49m\u001b[43m,\u001b[49m\u001b[43m \u001b[49m\u001b[43mcrs\u001b[49m\u001b[43m)\u001b[49m\n\u001b[0;32m    165\u001b[0m \u001b[38;5;28;01mexcept\u001b[39;00m \u001b[38;5;167;01mTypeError\u001b[39;00m:\n\u001b[0;32m    166\u001b[0m     \u001b[38;5;28;01mpass\u001b[39;00m\n",
      "File \u001b[1;32mc:\\Users\\hp\\anaconda3\\envs\\mm\\lib\\site-packages\\geopandas\\geodataframe.py:46\u001b[0m, in \u001b[0;36m_ensure_geometry\u001b[1;34m(data, crs)\u001b[0m\n\u001b[0;32m     44\u001b[0m     \u001b[38;5;28;01mreturn\u001b[39;00m GeoSeries(out, index\u001b[38;5;241m=\u001b[39mdata\u001b[38;5;241m.\u001b[39mindex, name\u001b[38;5;241m=\u001b[39mdata\u001b[38;5;241m.\u001b[39mname)\n\u001b[0;32m     45\u001b[0m \u001b[38;5;28;01melse\u001b[39;00m:\n\u001b[1;32m---> 46\u001b[0m     out \u001b[38;5;241m=\u001b[39m \u001b[43mfrom_shapely\u001b[49m\u001b[43m(\u001b[49m\u001b[43mdata\u001b[49m\u001b[43m,\u001b[49m\u001b[43m \u001b[49m\u001b[43mcrs\u001b[49m\u001b[38;5;241;43m=\u001b[39;49m\u001b[43mcrs\u001b[49m\u001b[43m)\u001b[49m\n\u001b[0;32m     47\u001b[0m     \u001b[38;5;28;01mreturn\u001b[39;00m out\n",
      "File \u001b[1;32mc:\\Users\\hp\\anaconda3\\envs\\mm\\lib\\site-packages\\geopandas\\array.py:151\u001b[0m, in \u001b[0;36mfrom_shapely\u001b[1;34m(data, crs)\u001b[0m\n\u001b[0;32m    135\u001b[0m \u001b[38;5;28;01mdef\u001b[39;00m \u001b[38;5;21mfrom_shapely\u001b[39m(data, crs\u001b[38;5;241m=\u001b[39m\u001b[38;5;28;01mNone\u001b[39;00m):\n\u001b[0;32m    136\u001b[0m     \u001b[38;5;124;03m\"\"\"\u001b[39;00m\n\u001b[0;32m    137\u001b[0m \u001b[38;5;124;03m    Convert a list or array of shapely objects to a GeometryArray.\u001b[39;00m\n\u001b[0;32m    138\u001b[0m \n\u001b[1;32m   (...)\u001b[0m\n\u001b[0;32m    149\u001b[0m \n\u001b[0;32m    150\u001b[0m \u001b[38;5;124;03m    \"\"\"\u001b[39;00m\n\u001b[1;32m--> 151\u001b[0m     \u001b[38;5;28;01mreturn\u001b[39;00m GeometryArray(\u001b[43mvectorized\u001b[49m\u001b[38;5;241;43m.\u001b[39;49m\u001b[43mfrom_shapely\u001b[49m\u001b[43m(\u001b[49m\u001b[43mdata\u001b[49m\u001b[43m)\u001b[49m, crs\u001b[38;5;241m=\u001b[39mcrs)\n",
      "File \u001b[1;32mc:\\Users\\hp\\anaconda3\\envs\\mm\\lib\\site-packages\\geopandas\\_vectorized.py:124\u001b[0m, in \u001b[0;36mfrom_shapely\u001b[1;34m(data)\u001b[0m\n\u001b[0;32m    122\u001b[0m \u001b[38;5;28;01melif\u001b[39;00m \u001b[38;5;28misinstance\u001b[39m(geom, BaseGeometry):\n\u001b[0;32m    123\u001b[0m     \u001b[38;5;28;01mif\u001b[39;00m compat\u001b[38;5;241m.\u001b[39mUSE_PYGEOS:\n\u001b[1;32m--> 124\u001b[0m         out\u001b[38;5;241m.\u001b[39mappend(\u001b[43m_shapely_to_pygeos\u001b[49m\u001b[43m(\u001b[49m\u001b[43mgeom\u001b[49m\u001b[43m)\u001b[49m)\n\u001b[0;32m    125\u001b[0m     \u001b[38;5;28;01melse\u001b[39;00m:\n\u001b[0;32m    126\u001b[0m         out\u001b[38;5;241m.\u001b[39mappend(geom)\n",
      "File \u001b[1;32mc:\\Users\\hp\\anaconda3\\envs\\mm\\lib\\site-packages\\geopandas\\_vectorized.py:93\u001b[0m, in \u001b[0;36m_shapely_to_pygeos\u001b[1;34m(geom)\u001b[0m\n\u001b[0;32m     91\u001b[0m     \u001b[38;5;28;01mreturn\u001b[39;00m pygeos\u001b[38;5;241m.\u001b[39mfrom_wkt(\u001b[38;5;124m\"\u001b[39m\u001b[38;5;124mPOINT EMPTY\u001b[39m\u001b[38;5;124m\"\u001b[39m)\n\u001b[0;32m     92\u001b[0m \u001b[38;5;28;01melse\u001b[39;00m:\n\u001b[1;32m---> 93\u001b[0m     \u001b[38;5;28;01mreturn\u001b[39;00m pygeos\u001b[38;5;241m.\u001b[39mfrom_wkb(\u001b[43mgeom\u001b[49m\u001b[38;5;241;43m.\u001b[39;49m\u001b[43mwkb\u001b[49m)\n",
      "File \u001b[1;32mc:\\Users\\hp\\anaconda3\\envs\\mm\\lib\\site-packages\\shapely\\geometry\\base.py:376\u001b[0m, in \u001b[0;36mBaseGeometry.wkb\u001b[1;34m(self)\u001b[0m\n\u001b[0;32m    373\u001b[0m \u001b[38;5;129m@property\u001b[39m\n\u001b[0;32m    374\u001b[0m \u001b[38;5;28;01mdef\u001b[39;00m \u001b[38;5;21mwkb\u001b[39m(\u001b[38;5;28mself\u001b[39m):\n\u001b[0;32m    375\u001b[0m     \u001b[38;5;124;03m\"\"\"WKB representation of the geometry\"\"\"\u001b[39;00m\n\u001b[1;32m--> 376\u001b[0m     \u001b[38;5;28;01mreturn\u001b[39;00m \u001b[43mWKBWriter\u001b[49m\u001b[43m(\u001b[49m\u001b[43mlgeos\u001b[49m\u001b[43m)\u001b[49m\u001b[38;5;241;43m.\u001b[39;49m\u001b[43mwrite\u001b[49m\u001b[43m(\u001b[49m\u001b[38;5;28;43mself\u001b[39;49m\u001b[43m)\u001b[49m\n",
      "File \u001b[1;32mc:\\Users\\hp\\anaconda3\\envs\\mm\\lib\\site-packages\\shapely\\geos.py:522\u001b[0m, in \u001b[0;36mWKBWriter.write\u001b[1;34m(self, geom)\u001b[0m\n\u001b[0;32m    520\u001b[0m     \u001b[38;5;28;01mraise\u001b[39;00m InvalidGeometryError(\u001b[38;5;124m\"\u001b[39m\u001b[38;5;124mNull geometry supports no operations\u001b[39m\u001b[38;5;124m\"\u001b[39m)\n\u001b[0;32m    521\u001b[0m size \u001b[38;5;241m=\u001b[39m c_size_t()\n\u001b[1;32m--> 522\u001b[0m result \u001b[38;5;241m=\u001b[39m \u001b[38;5;28;43mself\u001b[39;49m\u001b[38;5;241;43m.\u001b[39;49m\u001b[43m_lgeos\u001b[49m\u001b[38;5;241;43m.\u001b[39;49m\u001b[43mGEOSWKBWriter_write\u001b[49m\u001b[43m(\u001b[49m\n\u001b[0;32m    523\u001b[0m \u001b[43m    \u001b[49m\u001b[38;5;28;43mself\u001b[39;49m\u001b[38;5;241;43m.\u001b[39;49m\u001b[43m_writer\u001b[49m\u001b[43m,\u001b[49m\u001b[43m \u001b[49m\u001b[43mgeom\u001b[49m\u001b[38;5;241;43m.\u001b[39;49m\u001b[43m_geom\u001b[49m\u001b[43m,\u001b[49m\u001b[43m \u001b[49m\u001b[43mpointer\u001b[49m\u001b[43m(\u001b[49m\u001b[43msize\u001b[49m\u001b[43m)\u001b[49m\u001b[43m)\u001b[49m\n\u001b[0;32m    524\u001b[0m data \u001b[38;5;241m=\u001b[39m string_at(result, size\u001b[38;5;241m.\u001b[39mvalue)\n\u001b[0;32m    525\u001b[0m lgeos\u001b[38;5;241m.\u001b[39mGEOSFree(result)\n",
      "\u001b[1;31mKeyboardInterrupt\u001b[0m: "
     ]
    }
   ],
   "source": [
    "# Import des concessions\n",
    "concessions_total = gpd.read_file(os.path.join(path_data,'data','concession','concessions_total.gpkg'))\n",
    "\n",
    "# Import de la population META : \n",
    "pop_point_gdf = gpd.read_file(os.path.join(path_data,'population','pop_rgph_point2.gpkg'))\n",
    "## Lecture de la population dans les buffer autour du réseau BT\n",
    "population_60 = gpd.read_file(os.path.join(path_data,'population','pop_rgph_point_60m_tinga.gpkg'))\n",
    "population_70 = gpd.read_file(os.path.join(path_data,'population','pop_rgph_point_70m_tinga.gpkg'))\n",
    "population_80 = gpd.read_file(os.path.join(path_data,'population','pop_rgph_point_80m_tinga.gpkg'))\n"
   ]
  },
  {
   "cell_type": "markdown",
   "metadata": {},
   "source": [
    "# Cacul des résultats "
   ]
  },
  {
   "cell_type": "markdown",
   "metadata": {},
   "source": [
    "Buffer et extraction des données dans les zones tampon"
   ]
  },
  {
   "cell_type": "code",
   "execution_count": 37,
   "metadata": {},
   "outputs": [
    {
     "name": "stderr",
     "output_type": "stream",
     "text": [
      "c:\\Users\\hp\\anaconda3\\envs\\mm\\lib\\site-packages\\geopandas\\io\\file.py:362: FutureWarning: pandas.Int64Index is deprecated and will be removed from pandas in a future version. Use pandas.Index with the appropriate dtype instead.\n",
      "  pd.Int64Index,\n"
     ]
    },
    {
     "name": "stdout",
     "output_type": "stream",
     "text": [
      "Fichier enregistré : C:\\Users\\hp\\Documents\\MITSIOMOTU\\Prise phase2\\2. Data\\1. Analyse cas d'usage\\MMRE\\data\\réseau BT\\buffer\\zones_tampon_70m.gpkg\n"
     ]
    },
    {
     "name": "stderr",
     "output_type": "stream",
     "text": [
      "c:\\Users\\hp\\anaconda3\\envs\\mm\\lib\\site-packages\\geopandas\\io\\file.py:362: FutureWarning: pandas.Int64Index is deprecated and will be removed from pandas in a future version. Use pandas.Index with the appropriate dtype instead.\n",
      "  pd.Int64Index,\n"
     ]
    },
    {
     "name": "stdout",
     "output_type": "stream",
     "text": [
      "Fichier enregistré : C:\\Users\\hp\\Documents\\MITSIOMOTU\\Prise phase2\\2. Data\\1. Analyse cas d'usage\\MMRE\\data\\réseau BT\\buffer\\zones_tampon_80m.gpkg\n"
     ]
    }
   ],
   "source": [
    "\n",
    "def generate_and_merge_buffers(poteaux_gdf, lignes_gdf, cantons, distance):\n",
    "    \"\"\"\n",
    "    Crée un buffer autour des poteaux et des lignes, fusionne les buffers et découpe par canton.\n",
    "    \"\"\"\n",
    "    # Fusionner les poteaux et les lignes\n",
    "    all_features = pd.concat([poteaux_gdf, lignes_gdf])\n",
    "\n",
    "    # Générer le buffer autour de toutes les entités\n",
    "    all_features[\"buffer\"] = all_features.geometry.buffer(distance)\n",
    "\n",
    "    # Fusionner tous les buffers en une seule géométrie\n",
    "    merged_buffer = all_features[\"buffer\"].unary_union\n",
    "\n",
    "    # Créer un GeoDataFrame avec cette géométrie fusionnée\n",
    "    merged_buffers = gpd.GeoDataFrame(geometry=[merged_buffer], crs=poteaux_gdf.crs)\n",
    "\n",
    "    # Découper ce buffer global sur les limites des cantons pour éviter les chevauchements\n",
    "    clipped_buffers = gpd.overlay(merged_buffers, cantons, how=\"intersection\")\n",
    "\n",
    "    return clipped_buffers\n",
    "\n",
    "\n",
    "# Définition des distances\n",
    "distances = [70, 80]\n",
    "path_out = os.path.join(path_data,'data','réseau BT','buffer')\n",
    "# Variables pour stocker les buffers pour chaque distance\n",
    "#buffer_60 = None\n",
    "buffer_70 = None\n",
    "buffer_80 = None\n",
    "\n",
    "# Génération des buffers et sauvegarde des fichiers\n",
    "for distance in distances:\n",
    "    buffer_gdf = generate_and_merge_buffers(poteaux_gdf, lignes_bt_gdf,cantons, distance)\n",
    "\n",
    "    # Assigner le buffer généré à la variable correspondante\n",
    "    if distance == 60:\n",
    "        buffer_60 = buffer_gdf\n",
    "    elif distance == 70:\n",
    "        buffer_70 = buffer_gdf\n",
    "    elif distance == 80:\n",
    "        buffer_80 = buffer_gdf\n",
    "        \n",
    "    # Définir le chemin du fichier\n",
    "    output_file = os.path.join(path_out, f\"zones_tampon_{distance}m.gpkg\")\n",
    "\n",
    "    # Sauvegarder le fichier GeoPackage\n",
    "    buffer_gdf.to_file(output_file, driver=\"GPKG\", layer=f\"buffers_{distance}m\")\n",
    "\n",
    "    print(f\"Fichier enregistré : {output_file}\")"
   ]
  },
  {
   "cell_type": "markdown",
   "metadata": {},
   "source": [
    "### Comptage du nombre de concessions, du nombre de ménages et de branchements dans le buffer"
   ]
  },
  {
   "cell_type": "code",
   "execution_count": null,
   "metadata": {},
   "outputs": [
    {
     "name": "stderr",
     "output_type": "stream",
     "text": [
      "c:\\Users\\hp\\anaconda3\\envs\\mm\\lib\\site-packages\\geopandas\\io\\file.py:362: FutureWarning: pandas.Int64Index is deprecated and will be removed from pandas in a future version. Use pandas.Index with the appropriate dtype instead.\n",
      "  pd.Int64Index,\n",
      "c:\\Users\\hp\\anaconda3\\envs\\mm\\lib\\site-packages\\geopandas\\io\\file.py:362: FutureWarning: pandas.Int64Index is deprecated and will be removed from pandas in a future version. Use pandas.Index with the appropriate dtype instead.\n",
      "  pd.Int64Index,\n"
     ]
    },
    {
     "name": "stdout",
     "output_type": "stream",
     "text": [
      "Fichiers enregistrés pour 60m :\n"
     ]
    },
    {
     "name": "stderr",
     "output_type": "stream",
     "text": [
      "c:\\Users\\hp\\anaconda3\\envs\\mm\\lib\\site-packages\\geopandas\\io\\file.py:362: FutureWarning: pandas.Int64Index is deprecated and will be removed from pandas in a future version. Use pandas.Index with the appropriate dtype instead.\n",
      "  pd.Int64Index,\n",
      "c:\\Users\\hp\\anaconda3\\envs\\mm\\lib\\site-packages\\geopandas\\io\\file.py:362: FutureWarning: pandas.Int64Index is deprecated and will be removed from pandas in a future version. Use pandas.Index with the appropriate dtype instead.\n",
      "  pd.Int64Index,\n"
     ]
    },
    {
     "name": "stdout",
     "output_type": "stream",
     "text": [
      "Fichiers enregistrés pour 70m :\n"
     ]
    },
    {
     "name": "stderr",
     "output_type": "stream",
     "text": [
      "c:\\Users\\hp\\anaconda3\\envs\\mm\\lib\\site-packages\\geopandas\\io\\file.py:362: FutureWarning: pandas.Int64Index is deprecated and will be removed from pandas in a future version. Use pandas.Index with the appropriate dtype instead.\n",
      "  pd.Int64Index,\n",
      "c:\\Users\\hp\\anaconda3\\envs\\mm\\lib\\site-packages\\geopandas\\io\\file.py:362: FutureWarning: pandas.Int64Index is deprecated and will be removed from pandas in a future version. Use pandas.Index with the appropriate dtype instead.\n",
      "  pd.Int64Index,\n"
     ]
    },
    {
     "name": "stdout",
     "output_type": "stream",
     "text": [
      "Fichiers enregistrés pour 80m :\n"
     ]
    }
   ],
   "source": [
    "# Initialiser un GeoDataFrame pour stocker les résultats consolidés\n",
    "limites_admin_final = cantons.copy()\n",
    "distances = [60, 70, 80]\n",
    "path_out = os.path.join(path_data,'Résultats')\n",
    "\n",
    "for distance in distances:\n",
    "        # Assigner le buffer généré à la variable correspondante\n",
    "    if distance == 60:\n",
    "        buffer_gdf = buffer_60.copy() \n",
    "    elif distance == 70:\n",
    "        buffer_gdf = buffer_70.copy() \n",
    "    elif distance == 80:\n",
    "        buffer_gdf = buffer_80.copy() \n",
    "\n",
    "    # Suppression des colonnes 'index_left' et 'index_right' dans tous les GeoDataFrame avant les jointures\n",
    "    buffer_gdf = buffer_gdf.drop(columns=['index_left', 'index_right'], errors='ignore')\n",
    "    concessions_total = concessions_total.drop(columns=['index_left', 'index_right'], errors='ignore')\n",
    "    menage_gdf = menage_gdf.drop(columns=['index_left', 'index_right'], errors='ignore')\n",
    "    \n",
    "    # **Statistiques dans les buffers**\n",
    "    # Concessions dans le buffer\n",
    "    concess_colonne = ['N_REGION', 'N_PREFECTURE', 'N_COMMUNE', 'N_CANTON', 'MILIEU', 'TAILLE','TAILLE_MENAGE','geometry']\n",
    "    concessions_in_buffer = gpd.sjoin(concessions_total[concess_colonne], buffer_gdf, how=\"inner\", predicate=\"within\")\n",
    "    nb_concessions = concessions_in_buffer.groupby(\"canton_nom\").size().rename(f\"nb_concessions_{distance}m\")\n",
    "\n",
    "    # Ménages dans le buffer\n",
    "    menage_colonne = ['N_REGION','N_PREFECTURE','N_COMMUNE','N_CANTON','MILIEU','TAILLE_MENAGE','geometry']\n",
    "    menages_in_buffer = gpd.sjoin(menage_gdf[menage_colonne], buffer_gdf, how=\"inner\", predicate=\"within\")\n",
    "    nb_menages = menages_in_buffer.groupby(\"canton_nom\").size().rename(f\"nb_menages_{distance}m\")\n",
    "\n",
    "    # Branchements (filtrés par région)\n",
    "    branchement_buff = branchements_gdf.groupby(\"canton_nom\").size().rename(f\"nb_branchements_{distance}m\")\n",
    "\n",
    "    # **Fusion des statistiques avec les limites administratives**\n",
    "    limites_admin_temp = limites_admin_final.copy()\n",
    "    limites_admin_temp = limites_admin_temp.merge(nb_concessions, on=\"canton_nom\", how=\"left\")\n",
    "    limites_admin_temp = limites_admin_temp.merge(nb_menages, on=\"canton_nom\", how=\"left\")\n",
    "    limites_admin_temp = limites_admin_temp.merge(branchement_buff, on=\"canton_nom\", how=\"left\")\n",
    "\n",
    "\n",
    "    # **Joindre les statistiques avec les buffers**\n",
    "    buffer_temp= buffer_gdf.copy()\n",
    "    # Fusionner les statistiques dans les buffers\n",
    "    buffer_temp = buffer_temp.merge(nb_concessions, on=\"canton_nom\", how=\"left\")\n",
    "    buffer_temp = buffer_temp.merge(nb_menages, on=\"canton_nom\", how=\"left\")\n",
    "    buffer_temp = buffer_temp.merge(branchement_buff, on=\"canton_nom\", how=\"left\")\n",
    "\n",
    "    # **Enregistrement des fichiers** avec les buffers et statistiques jointes\n",
    "    output_gpkg_buffer = os.path.join(path_out, f\"zones_tampon_result_{distance}m.gpkg\")\n",
    "    buffer_temp.to_file(output_gpkg_buffer, driver=\"GPKG\", layer=f\"buffers_{distance}m\")\n",
    "\n",
    "    output_excel_buffer = os.path.join(path_out, f\"zones_tampon_result_{distance}m.xlsx\")\n",
    "    buffer_temp.drop(columns=\"geometry\").to_excel(output_excel_buffer, index=False)\n",
    "\n",
    "    output_gpkg_canton = os.path.join(path_out, f\"limites_admin_stats_{distance}m.gpkg\")\n",
    "    limites_admin_temp.to_file(output_gpkg_canton, driver=\"GPKG\")\n",
    "\n",
    "    output_excel_canton = os.path.join(path_out, f\"limites_admin_stats_{distance}m.xlsx\")\n",
    "    limites_admin_temp.drop(columns=\"geometry\").to_excel(output_excel_canton, index=False)\n",
    "\n",
    "    print(f\"Fichiers enregistrés pour {distance}m\")\n",
    "\n"
   ]
  },
  {
   "cell_type": "code",
   "execution_count": null,
   "metadata": {},
   "outputs": [],
   "source": []
  },
  {
   "cell_type": "markdown",
   "metadata": {},
   "source": [
    "## Analyse de la distance entre un ménage connecté et le plus proche poteau BT"
   ]
  },
  {
   "cell_type": "code",
   "execution_count": null,
   "metadata": {},
   "outputs": [],
   "source": [
    "support_bt_prise = gpd.read_file(os.path.join(path_data,'data','réseau BT','PRISE','ener_poteaux_bt.gpkg'))\n",
    "support_bt_prise = support_bt_prise.to_crs(25231)\n",
    "\n",
    "# Filtrer les ménages en fonction de la valeur du champ 'H08_Impute'\n",
    "filtered_menages = menage_gdf[menage_gdf ['prefecture_nom'].isin(['Agoè-Nyivé','Golfe' ] )]\n",
    "filtered_menages = filtered_menages[filtered_menages[\"H08_Impute\"].isin([    \"Electricité (CEET) compteur dans la concession\" ]   ) ]\n",
    "\n",
    "poteau_jointure = support_bt_prise[['region','prefecture','commune','canton','id','geometry']]\n",
    "\n",
    "# Utilisation de sjoin_nearest pour trouver le support BT le plus proche\n",
    "# Cette opération va joindre chaque ménage avec le poteau le plus proche et calculer la distance\n",
    "nearest_poteaux = gpd.sjoin_nearest(\n",
    "    filtered_menages[['ID_HHFtth','ID_RGPH','geometry']], \n",
    "    poteau_jointure, \n",
    "    how=\"left\", \n",
    "    distance_col=\"distance_to_nearest_support\",  # Ajouter une colonne pour la distance\n",
    "    max_distance=None  # On peut spécifier une distance maximale, sinon laisser None pour tout considérer\n",
    ")\n",
    "\n",
    "# Extraire les distances\n",
    "distances = nearest_poteaux['distance_to_nearest_support']\n"
   ]
  },
  {
   "cell_type": "code",
   "execution_count": null,
   "metadata": {},
   "outputs": [
    {
     "data": {
      "image/png": "[encoded data removed]",
      "text/plain": [
       "<Figure size 432x288 with 1 Axes>"
      ]
     },
     "metadata": {
      "needs_background": "light"
     },
     "output_type": "display_data"
    }
   ],
   "source": [
    "import matplotlib.pyplot as plt\n",
    "\n",
    "\n",
    "# Créer les tranches de distances (par pas de 5 mètres)\n",
    "bins = np.arange(0, distances.max() + 5, 5)  # Tranches de 5 mètres\n",
    "hist, bin_edges = np.histogram(distances, bins=bins)  # Histogramme simple\n",
    "\n",
    "# Calculer les effectifs cumulés\n",
    "cumulative_effectifs = np.cumsum(hist)\n",
    "\n",
    "# Calculer les percentiles\n",
    "percentiles = [75, 80,85, 90]\n",
    "percentile_values = np.percentile(distances, percentiles)\n",
    "\n",
    "# Créer le graphique\n",
    "plt.bar(bin_edges[:-1], cumulative_effectifs, width=5, align='edge', color='skyblue', label=\"Effectifs cumulés\")\n",
    "\n",
    "# Ajouter les lignes verticales pour les percentiles\n",
    "for p, value in zip(percentiles, percentile_values):\n",
    "    plt.axvline(value, color='red', linestyle='--', label=f\"{p}ᵉ percentile: {value:.1f} m\")\n",
    "\n",
    "# Personnaliser le graphique\n",
    "plt.title(\"Histogramme des effectifs cumulés par tranches de distances - région Kara\")\n",
    "plt.xlabel(\"Distance (m)\")\n",
    "plt.ylabel(\"Effectifs cumulés\")\n",
    "plt.xlim(0,200)\n",
    "plt.grid(axis='y', linestyle='--', alpha=0.7)\n",
    "plt.legend()\n",
    "plt.show()\n"
   ]
  },
  {
   "cell_type": "markdown",
   "metadata": {},
   "source": [
    "## Population concessions et ménages dans les zones -60 , 60m-2km et +2km"
   ]
  },
  {
   "cell_type": "markdown",
   "metadata": {},
   "source": [
    "### Dans la zone - 60m"
   ]
  },
  {
   "cell_type": "code",
   "execution_count": 40,
   "metadata": {},
   "outputs": [
    {
     "name": "stdout",
     "output_type": "stream",
     "text": [
      "✅ Population dans le buffer calculée et copiée dans le presse-papier.\n"
     ]
    }
   ],
   "source": [
    "# Calcul de la population dans le buffer\n",
    "pop_point_gdf = pop_point_gdf.rename(columns={\"index\": \"pop_index\"})\n",
    "\n",
    "# Intersecter les points de population avec les buffers\n",
    "pop_within_buffers = gpd.sjoin(pop_point_gdf, buffer_80, predicate=\"within\", how=\"left\", rsuffix=\"buff\")\n",
    "\n",
    "# Regrouper par canton et sommer la population\n",
    "pop_by_canton = pop_within_buffers.groupby(\"canton_nom_buff\")[\"tgo_general_2020\"].sum().reset_index()\n",
    "\n",
    "# Sauvegarde (ou copie dans le presse-papier pour tester)\n",
    "pop_by_canton.to_clipboard()\n",
    "\n",
    "print(\"✅ Population dans le buffer calculée et copiée dans le presse-papier.\")"
   ]
  },
  {
   "cell_type": "code",
   "execution_count": null,
   "metadata": {},
   "outputs": [],
   "source": [
    "# Lecture des résultats\n",
    "population_60.groupby(by='canton_nom').sum().to_clipboard()\n",
    "#population_70.groupby(by='canton_nom').sum() \n",
    "#population_80.groupby(by='canton_nom').sum() "
   ]
  },
  {
   "cell_type": "markdown",
   "metadata": {},
   "source": [
    "### Entre 60m et 2000m du réseau BT"
   ]
  },
  {
   "cell_type": "code",
   "execution_count": 20,
   "metadata": {},
   "outputs": [
    {
     "name": "stdout",
     "output_type": "stream",
     "text": [
      "  region_id region_nom prefecture_id prefecture_nom commune_id   commune_nom  \\\n",
      "0         A   Maritime           A01     Agoè-Nyivé     A01001  Agoè-Nyivé 1   \n",
      "1         A   Maritime           A01     Agoè-Nyivé     A01002  Agoè-Nyivé 2   \n",
      "2         A   Maritime           A01     Agoè-Nyivé     A01003  Agoè-Nyivé 3   \n",
      "3         A   Maritime           A01     Agoè-Nyivé     A01004  Agoè-Nyivé 4   \n",
      "4         A   Maritime           A01     Agoè-Nyivé     A01005  Agoè-Nyivé 5   \n",
      "\n",
      "   canton_id  canton_nom canton_nom_alt  grand_lome    Shape_Leng  \\\n",
      "0  A01001001  Agoè-Nyivé     Agoé-Nyivé         1.0  29477.785269   \n",
      "1  A01002002  Légbassito     Légbassito         1.0  21982.365357   \n",
      "2  A01003003  Vakpossito     Vakpossito         1.0  10619.447559   \n",
      "3  A01004004  Togblekope         Togblé         1.0  27501.274085   \n",
      "4  A01005005    Sanguera       Zanguéra         1.0  25069.332951   \n",
      "\n",
      "     Shape_Area                                           geometry  \n",
      "0  4.236808e+07  MULTIPOLYGON (((305603.151 688326.287, 305571....  \n",
      "1  2.542461e+07  MULTIPOLYGON (((296580.428 696773.294, 296771....  \n",
      "2  5.849780e+06  MULTIPOLYGON (((298276.864 686712.309, 298272....  \n",
      "3  3.435878e+07  MULTIPOLYGON (((303576.329 690058.771, 303577....  \n",
      "4  3.088084e+07  MULTIPOLYGON (((295687.365 688825.491, 295690....  \n"
     ]
    }
   ],
   "source": [
    "def generate_buffer_zone(poteaux_gdf, lignes_gdf, distance_60, distance_2000):\n",
    "    \"\"\"Crée un buffer unique pour la zone 60m-2000m en fusionnant poteaux et lignes.\"\"\"\n",
    "    # Fusionner les poteaux et les lignes\n",
    "    all_features = pd.concat([poteaux_gdf, lignes_gdf])\n",
    "\n",
    "    # Générer les buffers de 60m et 2000m\n",
    "    buffer_60m = all_features.copy()\n",
    "    buffer_60m[\"geometry\"] = buffer_60m.geometry.buffer(distance_60)\n",
    "\n",
    "    buffer_2000m = all_features.copy()\n",
    "    buffer_2000m[\"geometry\"] = buffer_2000m.geometry.buffer(distance_2000)\n",
    "\n",
    "    # Dissoudre pour éviter la superposition entre objets\n",
    "    buffer_60m = buffer_60m.dissolve()\n",
    "    buffer_2000m = buffer_2000m.dissolve()\n",
    "\n",
    "    # Assurer une géométrie unique après dissolution\n",
    "    buffer_60m = buffer_60m.geometry.unary_union\n",
    "    buffer_2000m = buffer_2000m.geometry.unary_union\n",
    "\n",
    "    # Calculer la zone tampon entre 60m et 2000m\n",
    "    buffer_zone = buffer_2000m.difference(buffer_60m)\n",
    "\n",
    "    # Convertir en GeoDataFrame propre\n",
    "    buffer_gdf = gpd.GeoDataFrame(geometry=[buffer_zone], crs=poteaux_gdf.crs)\n",
    "\n",
    "    return buffer_gdf\n",
    "\n",
    "def clip_buffer_by_canton(buffer_gdf, cantons_gdf):\n",
    "    \"\"\"Découpe le buffer global selon les limites cantonales et attribue les cantons.\"\"\"\n",
    "    clipped_buffers = gpd.overlay(buffer_gdf, cantons_gdf, how=\"intersection\")\n",
    "    return clipped_buffers\n",
    "\n",
    "# Étape 1 : Générer le buffer global 60m-2000m\n",
    "buffer_gdf = generate_buffer_zone(poteaux_gdf, lignes_bt_gdf, 60, 2000)\n",
    "\n",
    "# Étape 2 : Découper ce buffer sur les cantons\n",
    "buffer_diff_gdf = clip_buffer_by_canton(buffer_gdf, cantons)\n",
    "\n",
    "print(buffer_diff_gdf.head())\n",
    "\n",
    "buffer_diff_gdf.to_file(os.path.join(path_data,'data','réseau BT','buffer','buffer_diff_60_2000.gpkg'),geometry = 'buffer_diff',driver = 'GPKG')"
   ]
  },
  {
   "cell_type": "code",
   "execution_count": 24,
   "metadata": {},
   "outputs": [
    {
     "name": "stdout",
     "output_type": "stream",
     "text": [
      "✅ Population dans le buffer calculée et copiée dans le presse-papier.\n"
     ]
    }
   ],
   "source": [
    "# Calcul de la population dans le buffer\n",
    "pop_point_gdf = pop_point_gdf.rename(columns={\"index\": \"pop_index\"})\n",
    "buffer_diff_gdf = buffer_diff_gdf.rename(columns={\"index\": \"buffer_index\"})\n",
    "\n",
    "# Intersecter les points de population avec les buffers\n",
    "pop_within_buffers = gpd.sjoin(pop_point_gdf, buffer_diff_gdf, predicate=\"within\", how=\"left\", rsuffix=\"buff\")\n",
    "\n",
    "# Regrouper par canton et sommer la population\n",
    "pop_by_canton = pop_within_buffers.groupby(\"canton_nom_buff\")[\"tgo_general_2020\"].sum().reset_index()\n",
    "\n",
    "# Sauvegarde (ou copie dans le presse-papier pour tester)\n",
    "pop_by_canton.to_clipboard()\n",
    "\n",
    "print(\"✅ Population dans le buffer calculée et copiée dans le presse-papier.\")"
   ]
  },
  {
   "cell_type": "code",
   "execution_count": 43,
   "metadata": {},
   "outputs": [
    {
     "name": "stdout",
     "output_type": "stream",
     "text": [
      "✅ Nbr de menage dans le buffer calculée et copiée dans le presse-papier.\n"
     ]
    }
   ],
   "source": [
    "# Calcul du nombre de concession dans le buffer\n",
    "# Intersecter les points de population avec les buffers\n",
    "#conces_within_buffers = gpd.sjoin(concessions_total, buffer_diff_gdf, predicate=\"within\", how=\"left\", rsuffix=\"buff\")\n",
    "menage_within_buffers = gpd.sjoin(menage_gdf, buffer_diff_gdf, predicate=\"within\", how=\"left\", rsuffix=\"buff\")\n",
    "\n",
    "# Regrouper par canton et sommer la population\n",
    "#conces_within_buffers_canton = conces_within_buffers.groupby(\"canton_nom_buff\").size().reset_index()\n",
    "menage_within_buffers_canton = menage_within_buffers.groupby(\"canton_nom_buff\").size().reset_index()\n",
    "\n",
    "# Sauvegarde (ou copie dans le presse-papier pour tester)\n",
    "#conces_within_buffers_canton.to_clipboard()\n",
    "menage_within_buffers_canton.to_clipboard()\n",
    "\n",
    "print(\"✅ Nbr de menage dans le buffer calculée et copiée dans le presse-papier.\")"
   ]
  },
  {
   "cell_type": "markdown",
   "metadata": {},
   "source": [
    "### A plus de 2km du réseau BT"
   ]
  },
  {
   "cell_type": "code",
   "execution_count": 27,
   "metadata": {},
   "outputs": [
    {
     "name": "stderr",
     "output_type": "stream",
     "text": [
      "c:\\Users\\hp\\anaconda3\\envs\\mm\\lib\\site-packages\\geopandas\\base.py:31: UserWarning: The indices of the two GeoSeries are different.\n",
      "  warn(\"The indices of the two GeoSeries are different.\")\n",
      "c:\\Users\\hp\\anaconda3\\envs\\mm\\lib\\site-packages\\geopandas\\io\\file.py:362: FutureWarning: pandas.Int64Index is deprecated and will be removed from pandas in a future version. Use pandas.Index with the appropriate dtype instead.\n",
      "  pd.Int64Index,\n"
     ]
    }
   ],
   "source": [
    "def generate_outside_buffer(poteaux_gdf, lignes_gdf, cantons, distance):\n",
    "    \"\"\"\n",
    "    Crée la zone en dehors du buffer de 2000m du réseau BT.\n",
    "    \"\"\"\n",
    "    # Générer les buffers de 2000m autour des poteaux et lignes\n",
    "    poteaux_gdf[\"buffer\"] = poteaux_gdf.geometry.buffer(distance)\n",
    "    lignes_gdf[\"buffer\"] = lignes_gdf.geometry.buffer(distance)\n",
    "\n",
    "    # Fusionner les buffers pour éviter les chevauchements\n",
    "    all_buffers = gpd.GeoDataFrame(geometry=poteaux_gdf[\"buffer\"].union(lignes_gdf[\"buffer\"]), crs=poteaux_gdf.crs)\n",
    "\n",
    "    # Dissoudre en une seule géométrie pour chaque canton\n",
    "    all_buffers = all_buffers.dissolve()\n",
    "\n",
    "    # Vérifier que la géométrie est bien définie\n",
    "    all_buffers = all_buffers.set_geometry(\"geometry\")\n",
    "\n",
    "    # Soustraction des buffers aux limites des cantons\n",
    "    cantons = cantons.copy()  # Pour éviter de modifier l'original\n",
    "    cantons[\"geometry\"] = cantons.geometry.difference(all_buffers.geometry.unary_union)\n",
    "\n",
    "    return cantons\n",
    "\n",
    "\n",
    "# Générer la zone au-delà de 2000m\n",
    "outside_buffer_gdf = generate_outside_buffer(poteaux_gdf, lignes_bt_gdf, cantons.copy(), 2000)\n",
    "\n",
    "# Vérifier que la géométrie est bien définie après la soustraction\n",
    "outside_buffer_gdf = outside_buffer_gdf.set_geometry(\"geometry\")\n",
    "outside_buffer_gdf.to_file(os.path.join(path_data,'data','réseau BT','buffer','buffer_plus_2000.gpkg'),driver = 'GPKG')\n",
    "\n"
   ]
  },
  {
   "cell_type": "code",
   "execution_count": null,
   "metadata": {},
   "outputs": [],
   "source": [
    "# Intersecter les points de population avec la zone\n",
    "pop_outside_buffers = gpd.sjoin(pop_point_gdf, outside_buffer_gdf, predicate=\"within\", how=\"left\", rsuffix=\"out\")\n",
    "\n",
    "# Agréger la population par canton\n",
    "pop_out_by_canton = pop_outside_buffers.groupby(\"canton_nom_out\")[\"tgo_general_2020\"].sum().reset_index()\n",
    "\n",
    "# Sauvegarde (ou copie dans le presse-papier pour tester)\n",
    "pop_out_by_canton.to_clipboard()\n",
    "print(\"✅ Population au-delà de 2000m calculée et copiée dans le presse-papier.\")\n",
    "\n"
   ]
  },
  {
   "cell_type": "code",
   "execution_count": null,
   "metadata": {},
   "outputs": [
    {
     "name": "stdout",
     "output_type": "stream",
     "text": [
      "✅ Nbr de concess dans le buffer calculée et copiée dans le presse-papier.\n"
     ]
    }
   ],
   "source": [
    "# Calcul du nombre de concession dans le buffer\n",
    "# Intersecter les points de population avec les buffers\n",
    "conces_within_buffers = gpd.sjoin(concessions_total, outside_buffer_gdf, predicate=\"within\", how=\"left\", rsuffix=\"buff\")\n",
    "#menage_within_buffers = gpd.sjoin(menage_gdf, outside_buffer_gdf, predicate=\"within\", how=\"left\", rsuffix=\"buff\")\n",
    "\n",
    "# Regrouper par canton et sommer la population\n",
    "conces_within_buffers_canton = conces_within_buffers.groupby(\"canton_nom_buff\").size().reset_index()\n",
    "#menage_within_buffers_canton = menage_within_buffers.groupby(\"canton_nom_buff\").size().reset_index()\n",
    "\n",
    "# Sauvegarde (ou copie dans le presse-papier pour tester)\n",
    "conces_within_buffers_canton.to_clipboard()\n",
    "#menage_within_buffers_canton.to_clipboard()\n",
    "\n",
    "print(\"✅ Nbr de concess dans le buffer calculée et copiée dans le presse-papier.\")"
   ]
  }
 ],
 "metadata": {
  "kernelspec": {
   "display_name": "mm",
   "language": "python",
   "name": "python3"
  },
  "language_info": {
   "codemirror_mode": {
    "name": "ipython",
    "version": 3
   },
   "file_extension": ".py",
   "mimetype": "text/x-python",
   "name": "python",
   "nbconvert_exporter": "python",
   "pygments_lexer": "ipython3",
   "version": "3.9.9"
  }
 },
 "nbformat": 4,
 "nbformat_minor": 2
}

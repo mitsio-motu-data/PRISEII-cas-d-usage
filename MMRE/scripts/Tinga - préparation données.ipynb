{
 "cells": [
  {
   "cell_type": "code",
   "execution_count": 1,
   "metadata": {},
   "outputs": [
    {
     "name": "stderr",
     "output_type": "stream",
     "text": [
      "c:\\Users\\hp\\anaconda3\\envs\\mm\\lib\\site-packages\\geopandas\\_compat.py:111: UserWarning: The Shapely GEOS version (3.10.1-CAPI-1.16.0) is incompatible with the GEOS version PyGEOS was compiled with (3.10.3-CAPI-1.16.1). Conversions between both will be slow.\n",
      "  warnings.warn(\n"
     ]
    }
   ],
   "source": [
    "import geopandas as gpd\n",
    "import pandas as pd\n",
    "import matplotlib\n",
    "import os\n",
    "import numpy as np\n",
    "from shapely.geometry import Point\n",
    "import matplotlib.pyplot as plt"
   ]
  },
  {
   "cell_type": "markdown",
   "metadata": {},
   "source": [
    "# Import des données"
   ]
  },
  {
   "cell_type": "markdown",
   "metadata": {},
   "source": [
    "### Limites admin"
   ]
  },
  {
   "cell_type": "code",
   "execution_count": 2,
   "metadata": {},
   "outputs": [],
   "source": [
    "path_data = r\"C:\\Users\\hp\\Documents\\MITSIOMOTU\\Prise phase2\\2. Data\\1. Analyse cas d'usage\\MMRE\"\n",
    "\n",
    "# Import des limites administratives\n",
    "cantons = gpd.read_file(os.path.join(path_data,'data','limites admin','14_11_22_Togo_Cantons2_4326.gpkg'))\n",
    "communes = gpd.read_file(os.path.join(path_data,'data','limites admin','14_11_22_Communes_du_Togo_2.gpkg'))\n",
    "\n",
    "cantons = cantons.to_crs(epsg='25231')\n",
    "communes = communes.to_crs(epsg = '25231')\n",
    "\n",
    "reg = 'Maritime'"
   ]
  },
  {
   "cell_type": "markdown",
   "metadata": {},
   "source": [
    "### Réseau BT"
   ]
  },
  {
   "cell_type": "code",
   "execution_count": 3,
   "metadata": {},
   "outputs": [
    {
     "name": "stderr",
     "output_type": "stream",
     "text": [
      "c:\\Users\\hp\\anaconda3\\envs\\mm\\lib\\site-packages\\geopandas\\io\\file.py:362: FutureWarning: pandas.Int64Index is deprecated and will be removed from pandas in a future version. Use pandas.Index with the appropriate dtype instead.\n",
      "  pd.Int64Index,\n",
      "c:\\Users\\hp\\anaconda3\\envs\\mm\\lib\\site-packages\\geopandas\\io\\file.py:362: FutureWarning: pandas.Int64Index is deprecated and will be removed from pandas in a future version. Use pandas.Index with the appropriate dtype instead.\n",
      "  pd.Int64Index,\n"
     ]
    }
   ],
   "source": [
    "### Import du réseau BT\n",
    "# Réseaux et branchements BT\n",
    "support_bt_pays = gpd.read_file(os.path.join(path_data,'data','réseau BT','BT_Support_20240102.shp'))\n",
    "\n",
    "ligne_bt_pays = gpd.read_file(os.path.join(path_data,'data','réseau BT','BT_Troncon_20240102.shp'))\n",
    "ligne_bt_GL = gpd.read_file(os.path.join(path_data,'data','réseau BT','bt_corriges_par_rapport_aux_branchements_manquants.gpkg'))\n",
    "ligne_bt_manquant = gpd.read_file(os.path.join(path_data,'data','réseau BT','Reseau_BT_manquant.shp'))\n",
    "\n",
    "# Fusionner les GeoDataFrame\n",
    "ligne_agg = pd.concat([ ligne_bt_pays[['longueur2d',\"geometry\"]] , \n",
    "                              ligne_bt_GL[['Longueur',\"geometry\"]] , \n",
    "                              ligne_bt_manquant[['Longueur',\"geometry\"]]], ignore_index=True).reset_index()\n",
    "\n",
    "ligne_agg = ligne_agg.to_crs(epsg='25231')\n",
    "support_bt_pays = support_bt_pays.to_crs(epsg='25231')\n",
    "\n",
    "\n",
    "poteaux_cantons = gpd.sjoin_nearest(support_bt_pays,cantons,how='inner',max_distance=5000)\n",
    "ligne_cantons = gpd.sjoin_nearest(ligne_agg,cantons,how='inner',max_distance=5000)\n",
    "\n",
    "poteaux_gdf = poteaux_cantons[poteaux_cantons.geometry.notnull()]\n",
    "lignes_bt_gdf = ligne_cantons[ligne_cantons.geometry.notnull()]\n",
    "lignes_bt_gdf = lignes_bt_gdf [lignes_bt_gdf.geometry.length  <= 5000 ]\n",
    "\n",
    "path_out = os.path.join(path_data,'data','réseau BT')\n",
    "lignes_bt_gdf.to_file(os.path.join(path_out, 'lignes_bt_total.gpkg') , driver = 'GPKG')\n",
    "poteaux_gdf.to_file(os.path.join(path_out, 'poteaux_bt_total.gpkg') , driver = 'GPKG')\n",
    "\n"
   ]
  },
  {
   "cell_type": "markdown",
   "metadata": {},
   "source": [
    "### Branchements / Connexions CEET"
   ]
  },
  {
   "cell_type": "code",
   "execution_count": null,
   "metadata": {},
   "outputs": [],
   "source": [
    "### Import des branchements\n",
    "branchements_pays = gpd.read_file(os.path.join(path_data,'data','branchement','branchement_copie.gpkg'))\n",
    "branchements_GL = gpd.read_file(os.path.join(path_data,'data','branchement','Branchements_manquants_Golfe_Agoe.shp'))\n",
    "branchements_manquant = gpd.read_file(os.path.join(path_data,'data','branchement','Branchements_manquants.shp'))\n",
    "\n",
    "# Convertir les lignes en points en prenant leur centroïde\n",
    "branchements_pays[\"geometry\"] = branchements_pays[\"geometry\"].centroid\n",
    "\n",
    "# Fusionner les GeoDataFrame\n",
    "branchements_agg = pd.concat([ branchements_pays[['longueur2d',\"geometry\"]] , \n",
    "                              branchements_GL[['ID2',\"geometry\"]] , \n",
    "                              branchements_manquant[['ID2',\"geometry\"]]], ignore_index=True).reset_index()\n",
    "\n",
    "branchements_agg = branchements_agg.to_crs(epsg='25231')\n",
    "\n",
    "branchements_canton = gpd.sjoin_nearest(branchements_agg,cantons,how='inner',max_distance=5000)\n",
    "\n",
    "# Filtrer les géométries nulles\n",
    "branchements_gdf = branchements_canton[branchements_canton.geometry.notnull()]\n",
    "# Suppression des linéaires avec une longueur supérieure à 1000 mètres\n",
    "branchements_gdf = branchements_gdf[(branchements_gdf[\"longueur2d\"] <= 1000) | (branchements_gdf[\"longueur2d\"].isna())]\n",
    "branchements_gdf = branchements_gdf.drop(columns='index_right')\n",
    "\n",
    "path_out = os.path.join(path_data,'data','branchement')\n",
    "branchements_gdf.to_file(os.path.join(path_out, 'branchement_total.gpkg') , driver = 'GPKG')\n"
   ]
  },
  {
   "cell_type": "markdown",
   "metadata": {},
   "source": [
    "### Ménages"
   ]
  },
  {
   "cell_type": "code",
   "execution_count": null,
   "metadata": {},
   "outputs": [],
   "source": [
    "### Import des ménages\n",
    "# Import des données des ménages\n",
    "menage_centrale = pd.read_csv(os.path.join(path_data,'data','ménage','Menages_centrale.csv'))\n",
    "menage_kara = pd.read_csv(os.path.join(path_data,'data','ménage','Menages_kara.csv'))\n",
    "menage_dagl = pd.read_csv(os.path.join(path_data,'data','ménage','Menages_DAGL.csv'))\n",
    "menage_dagl_suite = pd.read_csv(os.path.join(path_data,'data','ménage','Menages_DAGL_suite.csv'))\n",
    "\n",
    "menage_agg = pd.concat([menage_centrale , menage_kara,menage_dagl,menage_dagl_suite]).reset_index()\n",
    "\n",
    "# Créer des objets géométriques Point à partir des colonnes LONGITUDE et LATITUDE\n",
    "geometry = [Point(xy) for xy in zip(menage_agg['LONGITUDE'], menage_agg['LATITUDE'])]\n",
    "\n",
    "# Créer un GeoDataFrame avec le système de coordonnées initial (WGS84, EPSG:4326)\n",
    "menages_gdf = gpd.GeoDataFrame(menage_agg, geometry=geometry, crs=\"EPSG:4326\")\n",
    "\n",
    "# Reprojeter le GeoDataFrame en EPSG:25231\n",
    "menages_gdf = menages_gdf.to_crs(epsg=25231)\n",
    "\n",
    "menages_canton = gpd.sjoin_nearest(menages_gdf,cantons,how='inner',max_distance=5000)\n",
    "\n",
    "menage_gdf = menages_canton[menages_canton.geometry.notnull()]\n",
    "menage_gdf = menage_gdf.drop(columns='index_right')\n",
    "menage_gdf2 = gpd.GeoDataFrame(menage_gdf, geometry='geometry', crs=menage_gdf.crs).reset_index(drop=True)\n",
    "\n",
    "path_out = os.path.join(path_data,'data','ménage')\n",
    "menage_gdf2.to_file(os.path.join(path_out, 'menage_total.gpkg') , driver = 'GPKG')"
   ]
  },
  {
   "cell_type": "markdown",
   "metadata": {},
   "source": [
    "### Concessions"
   ]
  },
  {
   "cell_type": "code",
   "execution_count": null,
   "metadata": {},
   "outputs": [],
   "source": [
    "### Concessions\n",
    "# Import des données de concessions\n",
    "concession_centrale = gpd.read_file(os.path.join(path_data,'data','concession','RGPH5_CARTO_Centrale_Concessions1.gpkg'))\n",
    "concession_kara = gpd.read_file(os.path.join(path_data,'data','concession','RGPH5_CARTO_Kara_Concessions1.gpkg'))\n",
    "concession_plateaux= gpd.read_file(os.path.join(path_data,'data','concession','RGPH5_CARTO_Plateaux_Concessions1.gpkg'))\n",
    "concession_savanes = gpd.read_file(os.path.join(path_data,'data','concession','RGPH5_CARTO_Savanes_Concessions1.gpkg'))\n",
    "concession_maritime = gpd.read_file(os.path.join(path_data,'data','concession','RGPH5_CARTO_Maritimes_Concessions1.gpkg'))\n",
    "concession_dagl = gpd.read_file(os.path.join(path_data,'data','concession','RGPH5_CARTO_DAGL_Concessions1.gpkg'))\n",
    "\n",
    "\n",
    "concession = pd.concat([concession_centrale,concession_kara,concession_plateaux,concession_savanes, concession_maritime,concession_dagl]).reset_index()\n",
    "concession = concession.to_crs(epsg='25231')\n",
    "\n",
    "concessions_canton = gpd.sjoin_nearest(concession,cantons,how='inner',max_distance=5000)\n",
    "\n",
    "concession_gdf = concessions_canton[concessions_canton.geometry.notnull()]\n",
    "concession_gdf = concession_gdf.drop(columns='index_right')\n"
   ]
  },
  {
   "cell_type": "code",
   "execution_count": null,
   "metadata": {},
   "outputs": [],
   "source": [
    "# Créer des géométries pour les concessions associées aux ménages\n",
    "menage_gdf[\"geometry_concession\"] = menage_gdf.apply(\n",
    "    lambda row: Point(row[\"LONGITUDE_CONCESSION\"], row[\"LATITUDE_CONCESSION\"]),\n",
    "    axis=1,\n",
    ")\n",
    "\n",
    "# Convertir les géométries en GeoDataFrame\n",
    "concessions_menage_gdf= gpd.GeoDataFrame(menage_gdf[['ID_HHFtth','TAILLE_MENAGE','geometry_concession']], geometry=\"geometry_concession\", crs=\"EPSG:4326\")\n",
    "concessions_menage_gdf = concessions_menage_gdf.to_crs(epsg = '25231')\n",
    "\n",
    "# Appliquer un buffer de 1 mm \n",
    "buffer_size = 0.001  # En mètres \n",
    "\n",
    "# Effectuer la jointure spatiale (concessions les plus proches pour chaque ménage)\n",
    "joined = gpd.sjoin_nearest(\n",
    "    concessions_menage_gdf,\n",
    "    concession_gdf,\n",
    "    how=\"left\",\n",
    "    max_distance=buffer_size,\n",
    "    distance_col=\"distance_to_concession\"\n",
    ")\n",
    "\n",
    "# Identifier les ménages sans concessions associées dans la tolérance du buffer\n",
    "gdf_concessions_manquantes = joined[joined[\"distance_to_concession\"].isna()]\n",
    "\n",
    "col_concess_manquante = ['ID_HHFtth','TAILLE_MENAGE','geometry_concession']\n",
    "\n",
    "gdf_concessions_missing = gpd.sjoin(gdf_concessions_manquantes[col_concess_manquante],cantons, how='inner',predicate=\"intersects\")\n",
    "\n",
    "gdf_concessions_missing = gdf_concessions_missing.rename(columns={'geometry_concession': 'geometry'})\n",
    "\n",
    "# Sauvegarde les concessions manquantes issues des fichiers de ménages\n",
    "path_out = os.path.join(path_data,'data','concession','concession_manquante')\n",
    "gdf_concessions_missing.to_file(os.path.join(path_out,'concessions_manquantes.gpkg'), driver=\"GPKG\")\n",
    "\n",
    "## Concaténation avec les concessions initiales\n",
    "concessions_total = pd.concat([concession_gdf, gdf_concessions_missing], ignore_index=True)\n",
    "\n",
    "concessions_total = concessions_total.drop(columns=['index_left', 'index_right'], errors='ignore')\n",
    "concessions_total = gpd.GeoDataFrame(concessions_total, geometry='geometry', crs=concession_gdf.crs).reset_index(drop=True)\n",
    "\n",
    "# Sauvegarde du fichier concessions totales\n",
    "path_out= os.path.join(path_data,'data','concession')\n",
    "concessions_total.to_file(os.path.join(path_out,'concessions_total.gpkg'),driver = 'GPKG')"
   ]
  },
  {
   "cell_type": "markdown",
   "metadata": {},
   "source": [
    "### Générations des buffers"
   ]
  },
  {
   "cell_type": "code",
   "execution_count": null,
   "metadata": {},
   "outputs": [],
   "source": [
    "def generate_and_merge_buffers(poteaux_gdf, lignes_gdf, cantons,distance):\n",
    "    \"\"\"\n",
    "    Crée un buffer autour des poteaux et des lignes, puis fusionne les buffers par canton.\n",
    "    \"\"\"\n",
    "    # Générer les buffers\n",
    "    poteaux_gdf[\"buffer\"] = poteaux_gdf.geometry.buffer(distance)\n",
    "    lignes_gdf[\"buffer\"] = lignes_gdf.geometry.buffer(distance)\n",
    "\n",
    "    # Concaténer poteaux et lignes\n",
    "    all_buffers = gpd.GeoDataFrame(\n",
    "        pd.concat([poteaux_gdf[[\"canton_nom\", \"buffer\"]], lignes_gdf[[\"canton_nom\", \"buffer\"]]]),\n",
    "        crs=poteaux_gdf.crs).set_geometry(\"buffer\") \n",
    "\n",
    "    # Dissolve pour fusionner par canton\n",
    "    merged_buffers = all_buffers.dissolve(by=\"canton_nom\")\n",
    "\n",
    "    # Nettoyage : renommer la géométrie pour éviter les erreurs\n",
    "    merged_buffers = merged_buffers.rename(columns={\"buffer\": \"geometry\"}).set_geometry(\"geometry\")\n",
    "\n",
    "    # Ajouter les informations administratives\n",
    "    merged_buffers = merged_buffers.merge(\n",
    "        cantons[[\"canton_nom\", \"region_nom\", \"prefecture_nom\", \"commune_nom\"]],\n",
    "        on=\"canton_nom\",\n",
    "        how=\"left\"\n",
    "    )\n",
    "\n",
    "    return merged_buffers\n",
    "\n",
    "# Définition des distances\n",
    "distances = [60, 70, 80]\n",
    "path_out = os.path.join(path_data,'data','réseau BT','buffer')\n",
    "# Variables pour stocker les buffers pour chaque distance\n",
    "buffer_60 = None\n",
    "buffer_70 = None\n",
    "buffer_80 = None\n",
    "\n",
    "# Génération des buffers et sauvegarde des fichiers\n",
    "for distance in distances:\n",
    "    buffer_gdf = generate_and_merge_buffers(poteaux_gdf, lignes_bt_gdf,cantons, distance)\n",
    "\n",
    "    # Assigner le buffer généré à la variable correspondante\n",
    "    if distance == 60:\n",
    "        buffer_60 = buffer_gdf\n",
    "    elif distance == 70:\n",
    "        buffer_70 = buffer_gdf\n",
    "    elif distance == 80:\n",
    "        buffer_80 = buffer_gdf\n",
    "        \n",
    "    # Définir le chemin du fichier\n",
    "    output_file = os.path.join(path_out, f\"zones_tampon_{distance}m.gpkg\")\n",
    "\n",
    "    # Sauvegarder le fichier GeoPackage\n",
    "    buffer_gdf.to_file(output_file, driver=\"GPKG\", layer=f\"buffers_{distance}m\")\n",
    "\n",
    "    print(f\"Fichier enregistré : {output_file}\")"
   ]
  }
 ],
 "metadata": {
  "kernelspec": {
   "display_name": "mm",
   "language": "python",
   "name": "python3"
  },
  "language_info": {
   "codemirror_mode": {
    "name": "ipython",
    "version": 3
   },
   "file_extension": ".py",
   "mimetype": "text/x-python",
   "name": "python",
   "nbconvert_exporter": "python",
   "pygments_lexer": "ipython3",
   "version": "3.9.9"
  }
 },
 "nbformat": 4,
 "nbformat_minor": 2
}
